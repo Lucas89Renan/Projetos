{
  "nbformat": 4,
  "nbformat_minor": 0,
  "metadata": {
    "colab": {
      "provenance": []
    },
    "kernelspec": {
      "name": "python3",
      "display_name": "Python 3"
    },
    "language_info": {
      "name": "python"
    }
  },
  "cells": [
    {
      "cell_type": "code",
      "source": [
        "import os\n",
        "\n",
        "# Crie um diretório para o pacote\n",
        "os.makedirs('calculadora', exist_ok=True)\n",
        "\n",
        "# Crie o arquivo __init__.py\n",
        "with open('calculadora/__init__.py', 'w') as f:\n",
        "  f.write(\"\")\n",
        "\n",
        "# Escreva o conteúdo do arquivo calculator_main.py no diretório do pacote\n",
        "with open('calculadora/calculator_main.py', 'w') as f:\n",
        "  f.write(\"\"\"\n",
        "def soma(a, b):\n",
        "  return a + b\n",
        "\n",
        "def multiplicacao(a, b):\n",
        "  return a * b\n",
        "\n",
        "def divisao(a, b):\n",
        "  return a / b\n",
        "\n",
        "def subtracao(a, b):\n",
        "  return a - b\n",
        "\n",
        "def main():\n",
        "  print(\"olá, essa é uma calculadora, digite (+) para operações de soma.\")\n",
        "  print(\"(x) para operações de multiplicação.\")\n",
        "  print(\"(/) para operações de divisão.\")\n",
        "  print(\"(-) para operações de subtração.\")\n",
        "\n",
        "  valor = input(\"digite uma das opções mostradas acima para o tipo de cálculo: \")\n",
        "\n",
        "  while True:\n",
        "    if valor == \"+\":\n",
        "      valor1 = int(input(\"digite o primeiro numero: \"))\n",
        "      valor2 = int(input(\"digite o segundo numero: \"))\n",
        "      som = soma(valor1, valor2)\n",
        "      print(\"o resultado é:\", som)\n",
        "      repeat = str(input(\"deseja fazer outra operação? (s) para sim e (n) para não: \"))\n",
        "      if repeat == \"s\":\n",
        "        valor = input(\"digite uma das opções mostradas acima: \")\n",
        "      elif repeat == \"n\":\n",
        "        break\n",
        "    elif valor == \"-\":\n",
        "      valor1 = int(input(\"digite o primeiro numero: \"))\n",
        "      valor2 = int(input(\"digite o segundo numero: \"))\n",
        "      men = subtracao(valor1, valor2)\n",
        "      print(\"o resultado é:\", men)\n",
        "      repeat = str(input(\"deseja fazer outra operação? (s) para sim e (n) para não: \"))\n",
        "      if repeat == \"s\":\n",
        "        valor = input(\"digite uma das opções mostradas acima: \")\n",
        "      elif repeat == \"n\":\n",
        "        break\n",
        "    elif valor == \"x\":\n",
        "      valor1 = int(input(\"digite o primeiro numero: \"))\n",
        "      valor2 = int(input(\"digite o segundo numero: \"))\n",
        "      mult = multiplicacao(valor1, valor2)\n",
        "      print(\"o resultado é:\", mult)\n",
        "      repeat = str(input(\"deseja fazer outra operação? (s) para sim e (n) para não: \"))\n",
        "      if repeat == \"s\":\n",
        "        valor = input(\"digite uma das opções mostradas acima: \")\n",
        "      elif repeat == \"n\":\n",
        "        break\n",
        "    elif valor == \"/\":\n",
        "      valor1 = int(input(\"digite o primeiro numero: \"))\n",
        "      valor2 = int(input(\"digite o segundo numero: \"))\n",
        "      div = divisao(valor1, valor2)\n",
        "      print(\"o resultado é:\", div)\n",
        "      repeat = str(input(\"deseja fazer outra operação? (s) para sim e (n) para não: \"))\n",
        "      if repeat == \"s\":\n",
        "        valor = input(\"digite uma das opções mostradas acima: \")\n",
        "      elif repeat == \"n\":\n",
        "        break\n",
        "    else:\n",
        "      print(\"valor digitado inválido, iniciando auto-destruição em 10...9...8\")\n",
        "      valor = input(\"digite uma das opções mostradas acima: \")\n",
        "\n",
        "if __name__ == \"__main__\":\n",
        "  main()\n",
        "  \"\"\")\n",
        "\n",
        "# Escreva o conteúdo do script_calculator.py\n",
        "with open('script_calculator.py', 'w') as f:\n",
        "  f.write(\"\"\"\n",
        "import calculadora.calculator_main\n",
        "\n",
        "calculadora.calculator_main.main()\n",
        "\"\"\")\n",
        "\n",
        "# Escreva o conteúdo do setup.py\n",
        "with open('setup.py', 'w') as f:\n",
        "  f.write(\"\"\"\n",
        "from setuptools import setup, find_packages\n",
        "\n",
        "setup(\n",
        "  name='calculadora',\n",
        "  version='0.1',\n",
        "  packages=find_packages(),\n",
        "  install_requires=[],\n",
        ")\n",
        "\"\"\")"
      ],
      "metadata": {
        "id": "9pmzQk4SwwMT"
      },
      "execution_count": 1,
      "outputs": []
    },
    {
      "cell_type": "code",
      "source": [
        "!python script_calculator.py"
      ],
      "metadata": {
        "colab": {
          "base_uri": "https://localhost:8080/"
        },
        "id": "QwQmvY-rbUCr",
        "outputId": "01bbbd9c-16ab-4b05-de8c-14896ce2580a"
      },
      "execution_count": 2,
      "outputs": [
        {
          "output_type": "stream",
          "name": "stdout",
          "text": [
            "olá, essa é uma calculadora, digite (+) para operações de soma.\n",
            "(x) para operações de multiplicação.\n",
            "(/) para operações de divisão.\n",
            "(-) para operações de subtração.\n",
            "digite uma das opções mostradas acima para o tipo de cálculo: /\n",
            "digite o primeiro numero: 12\n",
            "digite o segundo numero: 14\n",
            "o resultado é: 0.8571428571428571\n",
            "deseja fazer outra operação? (s) para sim e (n) para não: n\n"
          ]
        }
      ]
    }
  ]
}